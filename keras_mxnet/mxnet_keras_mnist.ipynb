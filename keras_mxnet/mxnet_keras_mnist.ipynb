{
 "cells": [
  {
   "cell_type": "markdown",
   "metadata": {},
   "source": [
    "# Keras (MXNet Backend) を利用してMNISTの分類を行う\n",
    "\n",
    "## 概要\n",
    "\n",
    "このノートブックでは、Amazon SageMaker上でKerasを実行し、MNISTの手書き数字の分類を学習します。Kerasを動作させるpythonのファイルとして、以下の2種類を`./src`に保存しています。\n",
    "\n",
    "- [keras_mlp_mnist.py](./src/keras_mlp_mnist.py)  \n",
    "Kerasで簡単なMLPを構築したものです。\n",
    "- [keras_cnn_mnist.py](./src/keras_cnn_mnist.py)  \n",
    "KerasのMNIST用の[CNN](https://github.com/keras-team/keras/blob/master/examples/mnist_cnn.py)をベースに作成しています。\n",
    "\n",
    "\n",
    "## データセットのS3へのアップロード\n",
    "\n",
    "- keras.datasetsを利用してmnistのデータをダウンロードしてnpz形式で保存します。\n",
    "- 保存したnpz形式のファイルを、SageMaker Python SDKを利用してS3にアップロードします。"
   ]
  },
  {
   "cell_type": "code",
   "execution_count": null,
   "metadata": {},
   "outputs": [],
   "source": [
    "import os\n",
    "import keras\n",
    "import numpy as np\n",
    "from keras.datasets import mnist\n",
    "(x_train, y_train), (x_test, y_test) = mnist.load_data()\n",
    "\n",
    "os.makedirs(\"./data\", exist_ok = True)\n",
    "\n",
    "np.savez('./data/train', image=x_train, label=y_train)\n",
    "np.savez('./data/test', image=x_test, label=y_test)\n",
    "\n",
    "import sagemaker\n",
    "sagemaker_session = sagemaker.Session()\n",
    "bucket_name = sagemaker_session.default_bucket()\n",
    "input_data = sagemaker_session.upload_data(path='./data', bucket=bucket_name, key_prefix='dataset/mnist')\n",
    "print('Training data is uploaded to: {}'.format(input_data))"
   ]
  },
  {
   "cell_type": "markdown",
   "metadata": {},
   "source": [
    "## コードの変更箇所\n",
    "\n",
    "kerasのMNIST用の[CNN](https://github.com/keras-team/keras/blob/master/examples/mnist_cnn.py)とSageMaker用のコード[keras_cnn_mnist.py](./src/keras_cnn_mnist.py)の違いを紹介します。SageMaker用のコードでは以下の4点が異なります。\n",
    "\n",
    "\n",
    "**1. 以下のmain guardの中に、学習してモデルを保存するまでのコードを書くようにします。**\n",
    "\n",
    "```python\n",
    "    if __name__ == '__main__':\n",
    "```\n",
    "\n",
    "**2. Main guardの最初には、APIから渡される引数やS3上の学習データの位置、モデルの保存場所を受け取るコードを書きます。**\n",
    "\n",
    "```python\n",
    "    parser = argparse.ArgumentParser()\n",
    "\n",
    "    # hyperparameters sent by the client are passed as command-line arguments to the script.\n",
    "    parser.add_argument('--epochs', type=int, default=10)\n",
    "    parser.add_argument('--batch-size', type=int, default=100)\n",
    "    parser.add_argument('--n-class', type=int, default=10)\n",
    "    ...\n",
    "    \n",
    "    args, _ = parser.parse_known_args()\n",
    "```\n",
    "**3. 学習が完了すると、KerasのモデルでなくMXNetのモデルとして保存し、後にデプロイで利用します。**\n",
    "\n",
    "MXNetのモデルは読み込む際に、入力データの名前が必要になるので、最初のレイヤに名前を指定します。仮に`name=data`とすると、名前は`/data_input1`になります。\n",
    "```python\n",
    "    model.add(Flatten(input_shape=input_shape, name ='data'))\n",
    "```\n",
    "MXNetのモデルで保存し、後でデプロイします。\n",
    "\n",
    "```python\n",
    "    keras.models.save_mxnet_model(model=model, prefix=os.path.join(args.model_dir, 'model'))\n",
    "```\n",
    "\n",
    "**4. デプロイ用に以下のmodel_fnの関数を定義し、デプロイするモデルを読み込むコードを書きます。**\n",
    "\n",
    "ここではMXNetのモデルを(Gluonのモデルとして)読み込みます。\n",
    "```python\n",
    "  \n",
    "def model_fn(model_dir):\n",
    "    import mxnet as mx\n",
    "    from mxnet import gluon\n",
    "    net = gluon.nn.SymbolBlock.imports(os.path.join(model_dir, 'model-symbol.json'),\n",
    "                                   ['/data_input1'], \n",
    "                                   param_file=os.path.join(model_dir, 'model-0000.params'),\n",
    "                                   ctx=mx.cpu())\n",
    "    return net\n",
    "```\n",
    "\n",
    "## SageMakerでの学習\n",
    "\n",
    "MXNetをバックエンドとして学習するため、MXNetのEstimatorを呼び出します。利用するpythonのコードは、`keras_mlp_mnist.py`と`keras_cnn_mnist.py`のどちらでも可能です。MLPのほうが短時間で学習が終わります。"
   ]
  },
  {
   "cell_type": "code",
   "execution_count": null,
   "metadata": {},
   "outputs": [],
   "source": [
    "from sagemaker.mxnet import MXNet\n",
    "from sagemaker import get_execution_role\n",
    "\n",
    "role = get_execution_role()\n",
    "\n",
    "m = MXNet(\"./src/keras_mlp_mnist.py\",\n",
    "          role=role,\n",
    "          train_instance_count=1,\n",
    "          train_instance_type=\"ml.m4.xlarge\",\n",
    "          framework_version=\"1.3.0\",\n",
    "          py_version='py3',\n",
    "          hyperparameters={'batch-size': 64,\n",
    "                         'n-class': 10,\n",
    "                         'epochs': 2})\n",
    "\n",
    "m.fit(input_data)"
   ]
  },
  {
   "cell_type": "markdown",
   "metadata": {},
   "source": [
    "## SageMakerでのデプロイ\n",
    "\n",
    "推論を行うために学習したモデルをデプロイします。deploy() メソッドでは、デプロイ先エンドポイントのインスタンス数、インスタンスタイプを指定します。"
   ]
  },
  {
   "cell_type": "code",
   "execution_count": null,
   "metadata": {},
   "outputs": [],
   "source": [
    "predictor = m.deploy(instance_type='ml.m4.xlarge',\n",
    "                                   initial_instance_count=1)"
   ]
  },
  {
   "cell_type": "markdown",
   "metadata": {},
   "source": [
    "デプロイが終わったら実際に手書き文字認識を行ってみましょう。ランダムに5枚選んで推論をしてみます。"
   ]
  },
  {
   "cell_type": "code",
   "execution_count": null,
   "metadata": {},
   "outputs": [],
   "source": [
    "%matplotlib inline\n",
    "import random\n",
    "import matplotlib.pyplot as plt\n",
    "\n",
    "num_samples = 5\n",
    "indices = random.sample(range(x_test.shape[0] - 1), num_samples)\n",
    "images, labels = x_test[indices]/255, y_test[indices]\n",
    "\n",
    "for i in range(num_samples):\n",
    "    plt.subplot(1,num_samples,i+1)\n",
    "    plt.imshow(images[i].reshape(28, 28), cmap='gray')\n",
    "    plt.title(labels[i])\n",
    "    plt.axis('off')\n",
    "    \n",
    "prediction = predictor.predict(images.reshape(num_samples, 28, 28, 1))\n",
    "prediction = np.array(prediction)\n",
    "predicted_label = prediction.argmax(axis=1)\n",
    "print('The predicted labels are: {}'.format(predicted_label))"
   ]
  }
 ],
 "metadata": {
  "kernelspec": {
   "display_name": "conda_mxnet_p36",
   "language": "python",
   "name": "conda_mxnet_p36"
  },
  "language_info": {
   "codemirror_mode": {
    "name": "ipython",
    "version": 3
   },
   "file_extension": ".py",
   "mimetype": "text/x-python",
   "name": "python",
   "nbconvert_exporter": "python",
   "pygments_lexer": "ipython3",
   "version": "3.6.5"
  }
 },
 "nbformat": 4,
 "nbformat_minor": 2
}
