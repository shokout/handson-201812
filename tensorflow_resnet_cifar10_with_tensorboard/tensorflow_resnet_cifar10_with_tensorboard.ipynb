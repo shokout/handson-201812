{
 "cells": [
  {
   "cell_type": "markdown",
   "metadata": {},
   "source": [
    "# ResNet CIFAR-10 with tensorboard\n",
    "\n",
    "このノートブックでは、TensorBoardの使用方法と、トレーニングジョブがチェックポイントを外部バケットに書き込む方法を示します。\n",
    "このノートブックで使用されるモデルは、CIFAR-10データセットで訓練されたResNetモデルです。より多くの背景については、以下の論文を参照してください。\n",
    "\n",
    "[Deep Residual Learning for Image Recognition](https://arxiv.org/pdf/1512.03385.pdf) by Kaiming He, Xiangyu Zhang, Shaoqing Ren, and Jian Sun, Dec 2015.\n",
    "\n",
    "[Identity Mappings in Deep Residual Networks](https://arxiv.org/pdf/1603.05027.pdf) by Kaiming He, Xiangyu Zhang, Shaoqing Ren, and Jian Sun, Jul 2016."
   ]
  },
  {
   "cell_type": "markdown",
   "metadata": {},
   "source": [
    "### 環境設定"
   ]
  },
  {
   "cell_type": "code",
   "execution_count": null,
   "metadata": {},
   "outputs": [],
   "source": [
    "import os\n",
    "import sagemaker\n",
    "from sagemaker import get_execution_role\n",
    "\n",
    "sagemaker_session = sagemaker.Session()\n",
    "\n",
    "role = get_execution_role()"
   ]
  },
  {
   "cell_type": "markdown",
   "metadata": {},
   "source": [
    "### CIFAR-10 データセットのダウンロード\n",
    "テストデータとトレーニングデータのダウンロードには約5分かかります。"
   ]
  },
  {
   "cell_type": "code",
   "execution_count": null,
   "metadata": {
    "scrolled": false
   },
   "outputs": [],
   "source": [
    "import utils\n",
    "\n",
    "utils.cifar10_download()"
   ]
  },
  {
   "cell_type": "markdown",
   "metadata": {},
   "source": [
    "### データをS3 bucketにアップロードする"
   ]
  },
  {
   "cell_type": "code",
   "execution_count": null,
   "metadata": {},
   "outputs": [],
   "source": [
    "inputs = sagemaker_session.upload_data(path='/tmp/cifar10_data', key_prefix='data/DEMO-cifar10')"
   ]
  },
  {
   "cell_type": "markdown",
   "metadata": {},
   "source": [
    "**sagemaker_session.upload_data** はあなたのマシンからCIFAR-10データセットを **sagemaker-{region}-{*your aws account number*}** というバケットにアップロードします。もしあなたがまだこのバケットを持っていなければ、 sagemaker_sessionがそれを作成します。"
   ]
  },
  {
   "cell_type": "markdown",
   "metadata": {},
   "source": [
    "### モデルのソースコードとスクリプト\n",
    "- [source_dir/resnet_model.py](source_dir/resnet_model.py): ResNetモデル\n",
    "- [source_dir/resnet_cifar_10.py](source_dir/resnet_cifar_10.py): 学習とホスティングのためのメインスクリプト"
   ]
  },
  {
   "cell_type": "markdown",
   "metadata": {},
   "source": [
    "## sagemaker.TensorFlow estimatorを使ってトレーニングジョブを生成"
   ]
  },
  {
   "cell_type": "code",
   "execution_count": null,
   "metadata": {
    "scrolled": false
   },
   "outputs": [],
   "source": [
    "from sagemaker.tensorflow import TensorFlow\n",
    "\n",
    "\n",
    "source_dir = os.path.join(os.getcwd(), 'source_dir')\n",
    "estimator = TensorFlow(entry_point='resnet_cifar_10.py',\n",
    "                       source_dir=source_dir,\n",
    "                       role=role,\n",
    "                       framework_version='1.11.0',\n",
    "                       hyperparameters={'throttle_secs': 30},\n",
    "                       training_steps=1000, evaluation_steps=100,\n",
    "                       train_instance_count=4, train_instance_type='ml.c5.2xlarge', \n",
    "                       base_job_name='tensorboard-example')\n",
    "\n",
    "%time estimator.fit(inputs, run_tensorboard_locally=True)"
   ]
  },
  {
   "cell_type": "markdown",
   "metadata": {},
   "source": [
    "---\n",
    "**```fit```** メソッドは2つの **ml.c5.2xlarge** インスタンスで **```tensorboard-example- {一意の識別子}```** という名前のトレーニングジョブを作成します。\n",
    "これらのインスタンスは、s3バケット **```sagemaker- {あなたのawsアカウント番号}```** にチェックポイントを書き出します。\n",
    "\n",
    "まだこのバケットがない場合、** ```sagemaker_session``` **があなたのために作成します。これらのチェックポイントは、トレーニングジョブを復元したり、\n",
    "**TensorBoard**を使用してトレーニングジョブのメトリクスを分析するために使用できます。\n",
    "\n",
    "パラメータ **```run_tensorboard_locally = True```** は、このノートブックが動作しているマシンで **TensorBoard** を実行します。\n",
    "S3バケットのトレーニングジョブによって新しいチェックポイントが作成されるたびに、 **```fit```** は **TensorBoard**が指している一時フォルダにチェックポイントをダウンロードします。\n",
    "\n",
    "** ```fit```** メソッドがトレーニングを開始すると、** TensorBoard** がその指標を表示するために使用しているポートを記録します。\n",
    "デフォルトのポートは**6006**ですが、可用性に応じて別のポートを選択できます。ポート番号は使用可能なポートが見つかるまで増加します。その後、ポート番号がstdoutに出力されます。\n",
    "\n",
    "コンテナをプロビジョニングしてトレーニングを開始するには数分かかります**TensorBoard**はすぐ後に測定基準を表示し始めます。\n",
    "\n",
    "[http：//localhost：6006](http：//localhost：6006)またはSageMakerノートブックインスタンス+[/proxy/6006/](/proxy/6006/)を使用して、\n",
    "**TensorBoard** にローカルでアクセスできます (TensorBoardは、URLの最後にスラッシュを置くのを忘れた場合は機能しません）。\n",
    "TensorBoardが別のポートで起動した場合は、これらのURLを一致させるように調整します。\n",
    "この例では、オプションのハイパーパラメータ **```throttle_secs```** を使用して、トレーニング評価をより頻繁に生成し、**TensorBoard**\n",
    "スカラーデータをより速く視覚化できます。[利用可能なオプションのハイパーパラメータ](https://github.com/aws/sagemaker-python-sdk#optional-hyperparameters)があります。\n",
    "\n",
    "---"
   ]
  },
  {
   "cell_type": "markdown",
   "metadata": {},
   "source": [
    "## 訓練されたモデルを展開して予測を準備する\n",
    "\n",
    "deploy（）メソッドにより、予測リクエストをリアルタイムで処理するエンドポイントを作成します。"
   ]
  },
  {
   "cell_type": "code",
   "execution_count": null,
   "metadata": {},
   "outputs": [],
   "source": [
    "predictor = estimator.deploy(initial_instance_count=1, instance_type='ml.m4.xlarge')"
   ]
  },
  {
   "cell_type": "markdown",
   "metadata": {},
   "source": [
    "## フェイクデータで予測して、エンドポイントがアップしていることを確認する\n",
    "\n",
    "予測はこのノートブックの焦点ではないので、エンドポイントの機能を確認するために、正しいフォーマットのランダムデータを生成して予測を行います。"
   ]
  },
  {
   "cell_type": "code",
   "execution_count": null,
   "metadata": {},
   "outputs": [],
   "source": [
    "import numpy as np\n",
    "\n",
    "random_image_data = np.random.rand(32, 32, 3)\n",
    "predictor.predict(random_image_data)"
   ]
  },
  {
   "cell_type": "markdown",
   "metadata": {},
   "source": [
    "# クリーンアップ\n",
    "このチュートリアルで使用されているリソースのAWSアカウントへの課金を避けるには、**SageMaker Endpoint** を削除します。"
   ]
  },
  {
   "cell_type": "code",
   "execution_count": null,
   "metadata": {
    "collapsed": true
   },
   "outputs": [],
   "source": [
    "sagemaker.Session().delete_endpoint(predictor.endpoint)"
   ]
  },
  {
   "cell_type": "code",
   "execution_count": null,
   "metadata": {},
   "outputs": [],
   "source": []
  }
 ],
 "metadata": {
  "kernelspec": {
   "display_name": "conda_tensorflow_p27",
   "language": "python",
   "name": "conda_tensorflow_p27"
  },
  "language_info": {
   "codemirror_mode": {
    "name": "ipython",
    "version": 2
   },
   "file_extension": ".py",
   "mimetype": "text/x-python",
   "name": "python",
   "nbconvert_exporter": "python",
   "pygments_lexer": "ipython2",
   "version": "2.7.15"
  },
  "notice": "Copyright 2017 Amazon.com, Inc. or its affiliates. All Rights Reserved.  Licensed under the Apache License, Version 2.0 (the \"License\"). You may not use this file except in compliance with the License. A copy of the License is located at http://aws.amazon.com/apache2.0/ or in the \"license\" file accompanying this file. This file is distributed on an \"AS IS\" BASIS, WITHOUT WARRANTIES OR CONDITIONS OF ANY KIND, either express or implied. See the License for the specific language governing permissions and limitations under the License."
 },
 "nbformat": 4,
 "nbformat_minor": 2
}
